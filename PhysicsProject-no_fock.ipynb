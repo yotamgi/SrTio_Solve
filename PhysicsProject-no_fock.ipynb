{
 "cells": [
  {
   "cell_type": "code",
   "execution_count": null,
   "metadata": {
    "collapsed": false
   },
   "outputs": [],
   "source": [
    "import numpy as np\n",
    "from math import *\n",
    "from numpy import sin, cos\n",
    "\n",
    "# Constants\n",
    "a = 3.905\n",
    "tl = 875 *10**(-3)/2.\n",
    "th = 40 *10**(-3)/2.\n",
    "td = 40 *10**(-3)/2.\n",
    "U = 2.7\n",
    "dE =  47*10**(-3)\n",
    "dso = 40*10**(-3)\n",
    "\n",
    "def create_H(kxa, kya, N1, N2, N3):\n",
    "    \n",
    "    e1 = 2*tl*(2 - cos(kxa) - cos(kya))\n",
    "    e2 = 2*tl*(1 - cos(kxa)) + 2*th*(1 - cos(kya))\n",
    "    e3 = 2*th*(1 - cos(kxa)) + 2*tl*(1 - cos(kya))\n",
    "    \n",
    "    ### H0 Matrix\n",
    "    H0_little = np.matrix([[e1-dE,           0,                        0               ],\n",
    "                           [  0,             e2,               2*td*sin(kxa)*sin(kya)  ],\n",
    "                           [  0,     2*td*sin(kxa)*sin(kya),           e3              ]])\n",
    "    \n",
    "    H0 = np.kron(H0_little, np.identity(2))\n",
    "        \n",
    "    ### Hso Matrix\n",
    "    Hso = (1j*dso/2)*np.matrix([[ 0,  0,  0,  1,  0, 1j],\n",
    "                                [ 0,  0,  1,  0,-1j,  0], \n",
    "                                [ 0, -1,  0,  0,  1,  0], \n",
    "                                [-1,  0,  0,  0,  0, -1], \n",
    "                                [ 0,-1j, -1,  0,  0,  0], \n",
    "                                [1j,  0,  0,  1,  0,  0]])\n",
    "    \n",
    "    ### Hint matrix\n",
    "    E1 = 0.5*U*N1 +     U*N2 +     U*N3;\n",
    "    E2 =     U*N1 + 0.5*U*N2 +     U*N3;\n",
    "    E3 =     U*N1 +     U*N2 + 0.5*U*N3;\n",
    "    \n",
    "    Hint_little = np.matrix([[E1, 0,   0], \n",
    "                             [0,  E2,  0],\n",
    "                             [0,   0, E3]])\n",
    "    \n",
    "    Hint = np.kron(Hint_little, np.identity(2))\n",
    "    \n",
    "    return H0 + Hso + Hint \n",
    "\n",
    "import numba\n",
    "#@numba.jit(nopython=1)\n",
    "def create_H_faster(kxa, kya, N1, N2, N3):\n",
    "    \n",
    "    # normal energies\n",
    "    e1 = 2*tl*(2 - cos(kxa) - cos(kya))\n",
    "    e2 = 2*tl*(1 - cos(kxa)) + 2*th*(1 - cos(kya))\n",
    "    e3 = 2*th*(1 - cos(kxa)) + 2*tl*(1 - cos(kya))    \n",
    "    eside = 2*td*sin(kxa)*sin(kya)\n",
    "    \n",
    "    ### Interaction erergies\n",
    "    E1 = 0.5*U*N1 +     U*N2 +     U*N3;\n",
    "    E2 =     U*N1 + 0.5*U*N2 +     U*N3;\n",
    "    E3 =     U*N1 +     U*N2 + 0.5*U*N3;\n",
    "    \n",
    "    ### The whole H Matrix\n",
    "    #H = np.zeros((6,6), dtype=numba.complex128)\n",
    "    H = np.zeros((6,6), dtype=np.complex128)\n",
    "    H[0,0]=e1-dE+E1 ;H[0,1]=    0     ;H[0,2]=       0       ;H[0,3]=  1j*dso/2    ;H[0,4]=     0        ;H[0,5]=   -dso/2\n",
    "    H[1,0]=   0     ;H[1,1]=e1-dE + E1;H[1,2]=   1j*dso/2    ;H[1,3]=      0       ;H[1,4]=   dso/2      ;H[1,5]=      0    \n",
    "    H[2,0]=   0     ;H[2,1]=-1j*dso/2 ;H[2,2]=    e2 + E2    ;H[2,3]=      0       ;H[2,4]=1j*dso/2+eside;H[2,5]=      0\n",
    "    H[3,0]=-1j*dso/2;H[3,1]=    0     ;H[3,2]=       0       ;H[3,3]=   e2 + E2    ;H[3,4]=     0        ;H[3,5]=-1j*dso/2+eside\n",
    "    H[4,0]=   0     ;H[4,1]=  dso/2   ;H[4,2]=-1j*dso/2+eside;H[4,3]=      0       ;H[4,4]=  e3 + E3     ;H[4,5]=      0\n",
    "    H[5,0]= -dso/2  ;H[5,1]=    0     ;H[5,2]=       0       ;H[5,3]=1j*dso/2+eside;H[5,4]=     0        ;H[5,5]=   e3 + E3\n",
    "        \n",
    "    return H"
   ]
  },
  {
   "cell_type": "code",
   "execution_count": null,
   "metadata": {
    "collapsed": false
   },
   "outputs": [],
   "source": [
    "from scipy import integrate, optimize\n",
    "from sympy.functions.special.delta_functions import Heaviside\n",
    "\n",
    "integrand_counter = 0\n",
    "energy_counter = 0\n",
    "bound_counter = 0\n",
    "statistics = []\n",
    "\n",
    "def zero_statistics():\n",
    "    global integrand_counter, energy_counter, bound_counter, statistics\n",
    "    integrand_counter, energy_counter, bound_counter = 0, 0, 0\n",
    "    statistics = []\n",
    "\n",
    "def m_integrand(N1, N2, N3, mu):\n",
    "    def integrand(kxa, kya, ms):\n",
    "        global integrand_counter, statistics\n",
    "        integrand_counter += 1\n",
    "        statistics.append((kxa, kya))\n",
    "        H = create_H_faster(kxa, kya, N1, N2, N3) \n",
    "        e, psi = np.linalg.eigh(H)\n",
    "        \n",
    "        # leave only the cols asked asked by m\n",
    "        cols = np.array([(int(i/2) in ms) for i in range(6)])        \n",
    "        psi = psi[:,cols]\n",
    "        \n",
    "        total = np.array([\n",
    "                  np.sum(np.abs(psi[2*j:2*j+2,:])**2)\n",
    "                  for j in xrange(3)\n",
    "                ])\n",
    "        \n",
    "        return  (1/(2*pi)**2) * total\n",
    "            \n",
    "    return integrand\n",
    "\n",
    "def m_energy(N1, N2, N3, mu):\n",
    "    def energy(kxa, kya, ms):\n",
    "        global energy_counter\n",
    "        energy_counter += 1\n",
    "        H = create_H_faster(kxa, kya, N1, N2, N3) \n",
    "        e = np.linalg.eigvalsh(H)\n",
    "        return  [e[2*m] for m in ms]\n",
    "    return energy\n",
    "\n",
    "# this function assumes that the eig_values are monotoneous .\n",
    "# @return for every kxa, the positive kya value that will match the fermi area\n",
    "def m_fermi_area(N1, N2, N3, m, mu):\n",
    "    def area(kxa):\n",
    "        global bound_counter\n",
    "        bound_counter += 1\n",
    "        \n",
    "        e_func = m_energy(N1, N2, N3, mu)\n",
    "        fermi_func = lambda kya: e_func(kxa, kya, [m])[0] - mu \n",
    "        \n",
    "        fa, fb = fermi_func(0), fermi_func(pi)\n",
    "        \n",
    "        # find the first kya value of eig_func that is above mu\n",
    "        if np.sign(fa) == -1 and np.sign(fb) == -1:\n",
    "            return pi\n",
    "        elif np.sign(fa) == 1 and np.sign(fb) == 1:\n",
    "            return 0\n",
    "        else:\n",
    "            return optimize.brentq(fermi_func, 0, pi)\n",
    "    return area\n",
    "\n",
    "integ = m_integrand(1, 1, 1, 0.95)\n",
    "integ(0, 0, [0])"
   ]
  },
  {
   "cell_type": "code",
   "execution_count": null,
   "metadata": {
    "collapsed": false
   },
   "outputs": [],
   "source": []
  },
  {
   "cell_type": "code",
   "execution_count": null,
   "metadata": {
    "collapsed": false,
    "scrolled": true
   },
   "outputs": [],
   "source": [
    "import cProfile\n",
    "import pstats\n",
    "\n",
    "##### integrate slowly but accurately\n",
    "\n",
    "def integrate_slower(N, mu):   \n",
    "    # integrate over kxa, kya in the fermi area for every m\n",
    "    total = [0]*3\n",
    "    \n",
    "    for j in range(3):\n",
    "        total[j] += integrate.dblquad(\n",
    "            lambda y, x: m_integrand(N[0], N[1], N[2], mu)(x, y, [0])[j], \n",
    "            0.0, pi, lambda x: 0.0, m_fermi_area(N[0], N[1], N[2], 0, mu),        \n",
    "        )[0]\n",
    "        total[j] += integrate.dblquad(\n",
    "            lambda y, x: m_integrand(N[0], N[1], N[2], mu)(x, y, [1])[j], \n",
    "            0.0, pi, lambda x: 0.0, m_fermi_area(N[0], N[1], N[2], 1, mu),        \n",
    "        )[0]\n",
    "        total[j] += integrate.dblquad(\n",
    "            lambda y, x: m_integrand(N[0], N[1], N[2], mu)(x, y, [2])[j], \n",
    "            0.0, pi, lambda x: 0.0, m_fermi_area(N[0], N[1], N[2], 2, mu),        \n",
    "        )[0]\n",
    "    \n",
    "    return total\n",
    "    \n",
    "def integrate_slower(N, mu):   \n",
    "    # integrate over kxa, kya in the fermi area for every m\n",
    "    total = [0]*3\n",
    "    \n",
    "    for j in range(3):\n",
    "        total[j] += integrate.dblquad(\n",
    "            lambda y, x: m_integrand(N[0], N[1], N[2], mu)(x, y, [0, 1, 2])[j], \n",
    "            0.0, pi, lambda x: 0.0, m_fermi_area(N[0], N[1], N[2], 2, mu),        \n",
    "        )[0]\n",
    "        total[j] += integrate.dblquad(\n",
    "            lambda y, x: m_integrand(N[0], N[1], N[2], mu)(x, y, [0, 1])[j], \n",
    "            0.0, pi, m_fermi_area(N[0], N[1], N[2], 2, mu), m_fermi_area(N[0], N[1], N[2], 1, mu),\n",
    "        )[0]\n",
    "        total[j] += integrate.dblquad(\n",
    "            lambda y, x: m_integrand(N[0], N[1], N[2], mu)(x, y, [0])[j], \n",
    "            0.0, pi, m_fermi_area(N[0], N[1], N[2], 1, mu), m_fermi_area(N[0], N[1], N[2], 0, mu),\n",
    "        )[0]\n",
    "    \n",
    "    return np.array(total)*4.\n",
    "\n",
    "zero_statistics()\n",
    "#print integrate_slower([guess_N1, guess_N2, guess_N3], mu)\n",
    "#print \"The integrand was called\", integrand_counter, \"times\"\n",
    "#s = cProfile.run(\"m_integrate([guess_N1, guess_N2, guess_N3], mu)\", \"prfiler_data\")\n",
    "#pstats.Stats(\"prfiler_data\").sort_stats(\"tottime\").print_stats()\n",
    "#%prun m_integrate([guess_N1, guess_N2, guess_N3], mu)"
   ]
  },
  {
   "cell_type": "code",
   "execution_count": null,
   "metadata": {
    "collapsed": false
   },
   "outputs": [],
   "source": [
    "### integrate faster and more efficiently using self-implemented integration \n",
    "\n",
    "def my_integrate3(func, xa, xb, ya, yb1, yb2, yb3, yc, xiters):\n",
    "    dx = dy = (xb-xa)/xiters\n",
    "    totals = np.array([0]*3)\n",
    "    for i in range(xiters):\n",
    "        x = xa + i*dx\n",
    "        ylims =  [(yb1(x),0), (yb2(x),1) , (yb3(x),2)]\n",
    "        ylims = sorted(ylims, key=lambda a: a[0])\n",
    "        ylims = [(ya, )] + ylims\n",
    "        current_ms = [0, 1, 2]\n",
    "        \n",
    "        for i in range(1, 4):\n",
    "            ystart = ylims[i-1][0]\n",
    "            yend = ylims[i][0]\n",
    "            yiters = int((yend-ystart)/dy)\n",
    "\n",
    "            for j in range(yiters):\n",
    "                y = ystart + j*dy\n",
    "                totals = np.add(totals, func(x, y, current_ms)*dx*dy)\n",
    "            current_ms.remove(ylims[i][1])\n",
    "            \n",
    "    return totals\n",
    "\n",
    "zero_statistics()\n",
    "def integrate_faster(N, mu):\n",
    "    return np.array(my_integrate3(\n",
    "        m_integrand(N[0], N[1], N[2], mu),\n",
    "        0.0, pi, \n",
    "        0.0, \n",
    "        m_fermi_area(N[0], N[1], N[2], 0, mu),\n",
    "        m_fermi_area(N[0], N[1], N[2], 1, mu),\n",
    "        m_fermi_area(N[0], N[1], N[2], 2, mu),\n",
    "        pi,\n",
    "        1000\n",
    "    )) * 4.\n",
    "\n",
    "#import line_profiler\n",
    "#print integrate_faster([guess_N1, guess_N2, guess_N3], mu)\n",
    "#s = cProfile.run(\"print integrate_faster([guess_N1, guess_N2, guess_N3], mu)\", \"prfiler_data\")\n",
    "#pstats.Stats(\"prfiler_data\").sort_stats(\"tottime\").print_stats()\n",
    "#%lprun integrate_faster([guess_N1, guess_N2, guess_N3], mu)\n",
    "#print \"The integrand was called\", integrand_counter, \"times\""
   ]
  },
  {
   "cell_type": "code",
   "execution_count": null,
   "metadata": {
    "collapsed": false
   },
   "outputs": [],
   "source": [
    "import functools\n",
    "mu = 0.26\n",
    "\n",
    "def global_params_str():\n",
    "    global a,tl,th,td,U,dE,dso\n",
    "    return \"a=%f,tl=%f,th=%f,td=%f,U=%f,dE=%f,dso=%f\" % (a,tl,th,td,U,dE,dso)\n",
    "\n",
    "# note that this decorator ignores **kwargs\n",
    "def memoize(obj):\n",
    "    @functools.wraps(obj)\n",
    "    def memoizer(*args, **kwargs):\n",
    "        print \"Cache: \", str(args)\n",
    "        g = global_params_str()\n",
    "        if g not in cache:\n",
    "            print \"Globals not in cache. Creating new one\"\n",
    "            cache[g] = {}\n",
    "        if str(args) not in cache[g]:\n",
    "            print \"Not in cache\", cache[g]\n",
    "            cache[g][str(args)] = obj(*args, **kwargs)\n",
    "        return cache[g][str(args)]\n",
    "    return memoizer\n",
    "\n",
    "def zero_me_mu(mu):\n",
    "    def zero_me(N_input):\n",
    "        full_input = [N_input[0], N_input[1], N_input[1]]\n",
    "        N_output = np.array(integrate_slower(full_input, mu)[0:2])\n",
    "        print N_input, \"->\", N_output\n",
    "        return N_input - N_output\n",
    "    return zero_me\n",
    "\n",
    "@memoize\n",
    "def calc_N(mu):\n",
    "    return optimize.fsolve(zero_me_mu(mu), [guess_N1, guess_N2], xtol=0.01, factor=100)\n",
    "\n",
    "def calc_n(mu, N):\n",
    "    ans = np.array([\n",
    "        integrate.dblquad(\n",
    "            lambda x, y: 1,\n",
    "            0.0, pi, lambda x: 0.0, m_fermi_area(N[0], N[1], N[1], m, mu),        \n",
    "        )[0]\n",
    "        for m in range(3)\n",
    "    ])\n",
    "    return 4*ans/((2*pi)**2) / (a*10**(-8))**2\n",
    "\n",
    "zero_statistics()\n",
    "N = [guess_N1, guess_N2] = calc_N(mu)\n",
    "guess_N3 = guess_N2\n",
    "print \"N is\", N\n",
    "print \"n is\", calc_n(mu, N)"
   ]
  },
  {
   "cell_type": "code",
   "execution_count": null,
   "metadata": {
    "collapsed": false
   },
   "outputs": [],
   "source": [
    "#### Plot integrands and energies\n",
    "mu = 0.2\n",
    "#N = calc_N(mu)\n",
    "N = [0.00811131,  0.04666291,  0.0466629]\n",
    "\n",
    "import matplotlib as mpl\n",
    "from matplotlib import pyplot\n",
    "extent = pi\n",
    "X = np.arange(-extent, extent, 0.06)\n",
    "Y = np.arange(-extent, extent, 0.06)\n",
    "\n",
    "fig = mpl.pyplot.figure()\n",
    "zero_statistics()\n",
    "\n",
    "def draw_Z(sp, Z, area):\n",
    "    sp.imshow(Z, extent=(-extent, extent, -extent, extent))\n",
    "    sp.contour(Z, extent=(-extent, extent, -extent, extent))\n",
    "\n",
    "    # add the line\n",
    "    sp.plot(X, [ min(area(x), extent) for x in X], \"k-\")\n",
    "    sp.plot(X, [-min(area(x), extent) for x in X], \"k-\")\n",
    "\n",
    "for m in range(3):\n",
    "\n",
    "    area = m_fermi_area(N[0], N[1], N[1], m, mu)\n",
    "    energy = m_energy(N[0], N[1], N[1], mu)\n",
    "    integrand = m_integrand(N[0], N[1], N[1], mu)\n",
    "    \n",
    "    # create the energy subplot\n",
    "    Z = [[j for j in X] for i in Y]\n",
    "    for ix in range(len(X)):\n",
    "        y_lim = area(X[ix])\n",
    "        for iy in range(len(Y)):\n",
    "            Z[iy][ix] = energy(X[ix], Y[iy], [m])[0]\n",
    "\n",
    "    energy_sp = fig.add_subplot(3, 4, 1+m*4)\n",
    "    draw_Z(energy_sp, Z, area)\n",
    "    if m == 0:\n",
    "        energy_sp.set_title(\"Energy\")\n",
    "    \n",
    "    # create the three graphs\n",
    "    Zs = [np.zeros((len(X), len(Y))), np.zeros((len(X), len(Y))), np.zeros((len(X), len(Y)))]\n",
    "    for ix in range(len(X)):\n",
    "        y_lim = area(X[ix])\n",
    "        for iy in range(len(Y)):\n",
    "            Zs[0][iy][ix], Zs[1][iy][ix], Zs[2][iy][ix] = integrand(X[ix], Y[iy], [m])\n",
    "\n",
    "    for j in range(3):\n",
    "        integrand_sp = fig.add_subplot(3, 4, 1+m*4+1+j)\n",
    "        draw_Z(integrand_sp, Zs[j], area)\n",
    "        if m == 0:\n",
    "            integrand_sp.set_title(\"integrand j=\" + str(j))\n",
    "\n",
    "        \n",
    "mpl.pyplot.show(fig)"
   ]
  },
  {
   "cell_type": "code",
   "execution_count": null,
   "metadata": {
    "collapsed": false
   },
   "outputs": [],
   "source": [
    "#### view integrand\n",
    "\n",
    "import matplotlib as mpl\n",
    "from matplotlib import pyplot\n",
    "X = np.arange(0, pi, 0.7)\n",
    "Y = np.arange(0, pi, 0.7)\n",
    "\n",
    "Z = [[j for j in X] for i in Y]\n",
    "for ix in range(len(X)):\n",
    "    for iy in range(len(Y)):\n",
    "        Z[ix][iy] = m_integrand(guess_N1, guess_N2, guess_N3, mu)(X[ix], Y[iy], [0, 1, 2])[0]\n",
    "\n",
    "print np.array_str(np.array(Z), precision=5)"
   ]
  },
  {
   "cell_type": "code",
   "execution_count": null,
   "metadata": {
    "collapsed": false
   },
   "outputs": [],
   "source": [
    "print guess_N1, guess_N2, guess_N3"
   ]
  },
  {
   "cell_type": "code",
   "execution_count": null,
   "metadata": {
    "collapsed": false
   },
   "outputs": [],
   "source": [
    "#### Recreate Energy Graphs\n",
    "import matplotlib as mpl\n",
    "from matplotlib import pyplot\n",
    "xmax = 3.14\n",
    "X = np.arange(-xmax, xmax, 0.01)\n",
    "\n",
    "fig = mpl.pyplot.figure()\n",
    "zero_statistics()\n",
    "mus = [-0.031, 0.034, 0.071]\n",
    "#mus = [0.14, 0.2, 0.22, 0.26]\n",
    "print global_params_str()\n",
    "\n",
    "for mu_i in range(len(mus)):\n",
    "    mu = mus[mu_i]\n",
    "    N = calc_N(mu)\n",
    "    guess_N1, guess_N2 = N[0], N[1]\n",
    "\n",
    "    energy = m_energy(N[0], N[1], N[1], mu)\n",
    "    integrand = m_integrand(N[0], N[1], N[1], mu)\n",
    "\n",
    "    energy_sp = fig.add_subplot(1, len(mus), mu_i+1)\n",
    "\n",
    "    for m in range(3):\n",
    "        Y = [energy(x, 0, [m])[0] for x in X]\n",
    "        energy_sp.plot(X, Y, [\"r-\", \"b-\", \"g-\"][m], linewidth = 4.0)\n",
    "        energy_sp.set_autoscale_on(False)\n",
    "        \n",
    "    energy_sp.plot([-xmax, xmax], [mu, mu], \"pc--\", linewidth = 4.0)\n",
    "    energy_sp.set_title(\"mu=%f\" % mu)\n",
    "\n",
    "mpl.pyplot.show(fig)"
   ]
  },
  {
   "cell_type": "code",
   "execution_count": null,
   "metadata": {
    "collapsed": false
   },
   "outputs": [],
   "source": [
    "guess_N1, guess_N2, guess_N3 = 0.00900515,  0.0039268, 0.0039268"
   ]
  },
  {
   "cell_type": "code",
   "execution_count": null,
   "metadata": {
    "collapsed": false
   },
   "outputs": [],
   "source": [
    "##### Show Statistics\n",
    "import matplotlib as mpl\n",
    "from matplotlib import pyplot\n",
    "\n",
    "print \"The integrand was called\", integrand_counter, \"times\"\n",
    "print \"The energy was called\",energy_counter, \"times\"\n",
    "print \"The integraion included \", bound_counter, \"different x values\"\n",
    "\n",
    "dim = 400\n",
    "Z = np.zeros((dim*2, dim*2))\n",
    "\n",
    "for p in statistics:\n",
    "    zx = p[0] * dim / pi\n",
    "    zy = p[1] * dim / pi\n",
    "    Z[int(zy)+dim, int(zx)+dim] += 10\n",
    "\n",
    "pyplot.matshow(Z, extent=(0, pi, 0, pi))\n",
    "pyplot.show()"
   ]
  },
  {
   "cell_type": "code",
   "execution_count": null,
   "metadata": {
    "collapsed": false
   },
   "outputs": [],
   "source": [
    "# save cache\n",
    "import pickle\n",
    "pickle.dump(cache, open(\"new_database\", \"w\"))"
   ]
  },
  {
   "cell_type": "code",
   "execution_count": null,
   "metadata": {
    "collapsed": false
   },
   "outputs": [],
   "source": [
    "# load cache\n",
    "import pickle\n",
    "cache = pickle.load(open(\"new_database\", \"r\"))"
   ]
  },
  {
   "cell_type": "code",
   "execution_count": null,
   "metadata": {
    "collapsed": false
   },
   "outputs": [],
   "source": [
    "### Create the n's graphs for different Us\n",
    "\n",
    "mus = [-0.02 + i*0.02 for i in range(15)]\n",
    "Us = [2.7]\n",
    "\n",
    "fig = mpl.pyplot.figure()\n",
    "zero_statistics()\n",
    "for u in range(len(Us)):\n",
    "    global U\n",
    "    U = Us[u]\n",
    "    \n",
    "    orbit1, orbit2 = [], []\n",
    "    for mu in mus:\n",
    "        guess_N1, guess_N2 = calc_N(mu)\n",
    "        o1, o2, _ = calc_n(mu, [guess_N1, guess_N2])\n",
    "        orbit1.append(o1)\n",
    "        orbit2.append(o2)\n",
    "        \n",
    "    ns_sp = fig.add_subplot(1, len(Us), u+1)\n",
    "    ns_sp.plot(mus, orbit1, \"r-\", linewidth = 4.0)\n",
    "    ns_sp.plot(mus, orbit2, \"b-\", linewidth = 4.0)\n",
    "    ns_sp.set_title(\"U = %f\" % U)\n",
    "\n",
    "mpl.pyplot.show()"
   ]
  },
  {
   "cell_type": "code",
   "execution_count": null,
   "metadata": {
    "collapsed": false
   },
   "outputs": [],
   "source": [
    "print cache.keys()"
   ]
  },
  {
   "cell_type": "code",
   "execution_count": null,
   "metadata": {
    "collapsed": false,
    "scrolled": true
   },
   "outputs": [],
   "source": [
    "cache"
   ]
  },
  {
   "cell_type": "code",
   "execution_count": null,
   "metadata": {
    "collapsed": false
   },
   "outputs": [],
   "source": [
    "cache.keys() #[\"3.905000,tl=0.875000,th=0.040000,td=0.040000,U=5.000000,dE=0.047000,dso=0.040000\"]"
   ]
  },
  {
   "cell_type": "code",
   "execution_count": null,
   "metadata": {
    "collapsed": false
   },
   "outputs": [],
   "source": [
    "print len('a=3.905000,tl=0.875000,th=0.040000,td=0.040000,U=5.000000,dE=0.047000,dso=0.040000')\n",
    "print len(\"3.905000,tl=0.875000,th=0.040000,td=0.040000,U=5.000000,dE=0.047000,dso=0.040000\")"
   ]
  },
  {
   "cell_type": "code",
   "execution_count": null,
   "metadata": {
    "collapsed": false
   },
   "outputs": [],
   "source": [
    "cache['a=3.905000,tl=0.875000,th=0.040000,td=0.040000,U=5.000000,dE=0.047000,dso=0.040000']"
   ]
  },
  {
   "cell_type": "code",
   "execution_count": null,
   "metadata": {
    "collapsed": false
   },
   "outputs": [],
   "source": [
    "import numpy as np\n",
    "from scipy.integrate import odeint\n",
    "\n",
    "def _infunc(x, func, gfun, hfun, more_args):\n",
    "    a = gfun(x)\n",
    "    b = hfun(x)\n",
    "    y0 = f(x, a)\n",
    "    return odeint(lambda v, y: f(x, y, *more_args), y0=y0, t=[a, b] )[1]\n",
    "\n",
    "def dblodeint(f, a, b, gfun, hfun, args=()):\n",
    "    y0 = f(a, gfun(a), *args)\n",
    "    return odeint(lambda v, y: _infunc(y, f, gfun, hfun, args),\n",
    "                  y0=y0, t=[a, b])[1]\n",
    "\n",
    "if __name__ == '__main__':    \n",
    "    def f(x, y):\n",
    "        return np.array([x*y**2, x**2*y, x**4*y, x**6*y], float)\n",
    "\n",
    "    def exact_int(a, b, ya, yb):\n",
    "        return np.array([(b**2-a**2)*(yb**3-ya**3)/6.,\n",
    "                         (b**3-a**3)*(yb**2-ya**2)/6.,\n",
    "                         (b**5-a**5)*(yb**2-ya**2)/10.,\n",
    "                         (b**7-a**7)*(yb**2-ya**2)/14.], float)\n",
    "\n",
    "    print 'approx:', dblodeint(f, 0, 10, lambda x:0, lambda x:10)\n",
    "\n",
    "    print 'exact:', exact_int(0, 10, 0, 10)\n"
   ]
  },
  {
   "cell_type": "code",
   "execution_count": null,
   "metadata": {
    "collapsed": false
   },
   "outputs": [],
   "source": [
    "a = np.array([1 ,2])\n",
    "b = np.array([2, 3])\n",
    "a += b*2\n",
    "a += [43, 12]\n",
    "print a"
   ]
  },
  {
   "cell_type": "code",
   "execution_count": null,
   "metadata": {
    "collapsed": true
   },
   "outputs": [],
   "source": [
    "cache = {}"
   ]
  },
  {
   "cell_type": "code",
   "execution_count": null,
   "metadata": {
    "collapsed": true
   },
   "outputs": [],
   "source": []
  }
 ],
 "metadata": {
  "kernelspec": {
   "display_name": "Python 2",
   "language": "python",
   "name": "python2"
  },
  "language_info": {
   "codemirror_mode": {
    "name": "ipython",
    "version": 2
   },
   "file_extension": ".py",
   "mimetype": "text/x-python",
   "name": "python",
   "nbconvert_exporter": "python",
   "pygments_lexer": "ipython2",
   "version": "2.7.11"
  }
 },
 "nbformat": 4,
 "nbformat_minor": 0
}
